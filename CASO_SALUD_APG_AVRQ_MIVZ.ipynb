{
  "nbformat": 4,
  "nbformat_minor": 0,
  "metadata": {
    "colab": {
      "provenance": [],
      "authorship_tag": "ABX9TyMEjY1z+gu7nU21EidhQz6z",
      "include_colab_link": true
    },
    "kernelspec": {
      "name": "python3",
      "display_name": "Python 3"
    },
    "language_info": {
      "name": "python"
    }
  },
  "cells": [
    {
      "cell_type": "markdown",
      "metadata": {
        "id": "view-in-github",
        "colab_type": "text"
      },
      "source": [
        "<a href=\"https://colab.research.google.com/github/allisonpg12/analitica3proyecto3/blob/main/CASO_SALUD_APG_AVRQ_MIVZ.ipynb\" target=\"_parent\"><img src=\"https://colab.research.google.com/assets/colab-badge.svg\" alt=\"Open In Colab\"/></a>"
      ]
    },
    {
      "cell_type": "markdown",
      "source": [
        "# **CASO DE ESTUDIO SALUD**"
      ],
      "metadata": {
        "id": "ckviqrY7WT29"
      }
    },
    {
      "cell_type": "markdown",
      "source": [
        "## **Importar librerias**"
      ],
      "metadata": {
        "id": "Ljh9_478Y-al"
      }
    },
    {
      "cell_type": "code",
      "execution_count": null,
      "metadata": {
        "id": "z3mbstTPWE7M"
      },
      "outputs": [],
      "source": [
        "# Importar librerías necesarias\n",
        "import pandas as pd\n",
        "import numpy as np\n",
        "import matplotlib.pyplot as plt\n",
        "import seaborn as sns\n",
        "import sklearn\n",
        "from sklearn.linear_model import LinearRegression, LogisticRegression, Ridge, RidgeCV, Lasso\n",
        "from functools import reduce\n",
        "from sklearn.impute import SimpleImputer\n",
        "from sklearn.preprocessing import OneHotEncoder, StandardScaler\n",
        "from sklearn.compose import ColumnTransformer\n",
        "from sklearn.model_selection import train_test_split\n",
        "from sklearn.metrics import mean_absolute_error, mean_squared_error, mean_absolute_percentage_error\n",
        "from sklearn.feature_selection import SelectFromModel\n",
        "\n",
        "%matplotlib inline\n",
        "from sklearn import tree\n",
        "from sklearn import metrics\n",
        "from sklearn.tree import plot_tree\n",
        "from sklearn.ensemble import RandomForestRegressor\n",
        "from sklearn.ensemble import GradientBoostingRegressor\n",
        "from sklearn.model_selection import RandomizedSearchCV\n",
        "import sqlite3\n",
        "from datetime import datetime\n",
        "\n",
        "# Evitar salidas de Warnings\n",
        "import warnings\n",
        "warnings.filterwarnings(\"ignore\")"
      ]
    },
    {
      "cell_type": "markdown",
      "source": [
        "## **Lectura de datos - Procesamiento de bases**"
      ],
      "metadata": {
        "id": "KKn8LE37ZQ6g"
      }
    },
    {
      "cell_type": "code",
      "source": [
        "#conectar el notebook al drive\n",
        "from google.colab import drive\n",
        "drive.mount('/content/drive')"
      ],
      "metadata": {
        "colab": {
          "base_uri": "https://localhost:8080/"
        },
        "id": "0cb1BJ-mWucN",
        "outputId": "e49a3662-fac0-4ba1-e59c-dc39fffa48b6"
      },
      "execution_count": null,
      "outputs": [
        {
          "output_type": "stream",
          "name": "stdout",
          "text": [
            "Mounted at /content/drive\n"
          ]
        }
      ]
    },
    {
      "cell_type": "code",
      "execution_count": null,
      "metadata": {
        "id": "R6Ck0tC1pN4m"
      },
      "outputs": [],
      "source": []
    }
  ]
}